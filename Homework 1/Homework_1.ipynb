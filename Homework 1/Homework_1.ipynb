{
 "cells": [
  {
   "cell_type": "markdown",
   "metadata": {},
   "source": [
    "# Homework 1\n",
    "## Arnold Leigh Ryan Choa - 32038144\n",
    "## PHYS 410"
   ]
  },
  {
   "cell_type": "code",
   "execution_count": 1,
   "metadata": {
    "collapsed": true
   },
   "outputs": [],
   "source": [
    "import numpy as np\n",
    "import matplotlib.pyplot as plt\n",
    "import pandas as pd #for tabling results"
   ]
  },
  {
   "cell_type": "markdown",
   "metadata": {},
   "source": [
    "### Question  1"
   ]
  },
  {
   "cell_type": "markdown",
   "metadata": {},
   "source": [
    "#### Functions for Simple Bisection and 1-D Newton's Method:"
   ]
  },
  {
   "cell_type": "code",
   "execution_count": 2,
   "metadata": {
    "collapsed": true
   },
   "outputs": [],
   "source": [
    "\"\"\"\n",
    "Code for a simple bisection\n",
    "[a,b] signifies the starting interval.\n",
    "givenFunction is the function of the sepcific problem we want\n",
    "delta is a threshold value to function(x) for saying approximation is good enough\n",
    "\"\"\"\n",
    "def bisection(a,b, givenFunction, delta = 0.01):\n",
    "    if a>b:\n",
    "        # Checking if a <= b\n",
    "        return bisection(b,a, givenFunction, delta)\n",
    "    mid = (a+b)/2\n",
    "    if abs(givenFunction(mid)) < delta: # Test delta against value of root\n",
    "        return mid # Return midpoint of interval if bisection is  satisfied\n",
    "    else:\n",
    "        if givenFunction(a)*givenFunction(mid) < 0:\n",
    "            return bisection(a, mid, givenFunction, delta)\n",
    "        else:\n",
    "            return bisection(mid, b, givenFunction, delta)"
   ]
  },
  {
   "cell_type": "code",
   "execution_count": 16,
   "metadata": {
    "collapsed": true
   },
   "outputs": [],
   "source": [
    "\"\"\"\n",
    "Code for a 1-D Newton's method\n",
    "x signifies the starting point.\n",
    "givenFunction is the function of the sepcific problem we want\n",
    "givenDerivative is the function of the sepcific problem we want\n",
    "delta is a threshold value to function(x) for saying approximation is good enough\n",
    "a is the learning rate\n",
    "\"\"\"\n",
    "def one_Newton(x, givenFunction, givenDerivative, delta, a):\n",
    "    value = givenFunction(x)\n",
    "    slope = givenDerivative(x)\n",
    "    \n",
    "    if abs(value) < delta:\n",
    "        return x\n",
    "    else:\n",
    "        xNew = x - (value/slope)\n",
    "        if abs(xNew - x) < a:\n",
    "            xNew = x - a*np.sign(value/slope)\n",
    "        return one_Newton(xNew, givenFunction, givenDerivative, delta, a)"
   ]
  },
  {
   "cell_type": "markdown",
   "metadata": {},
   "source": [
    "#### Function and Derivative for Question 1"
   ]
  },
  {
   "cell_type": "code",
   "execution_count": 3,
   "metadata": {
    "collapsed": true
   },
   "outputs": [],
   "source": [
    "def q1Function(x):\n",
    "    return(6425*x**8 - 12012*x**6 + 6930*x**4 - 1260*x**2 + 35)/128\n",
    "    \n",
    "def q1Derivative(x):\n",
    "    return(8*6425*x**7 - 6*12012*x**5 + 4*6930*x**3 - 2*1260*x)/128"
   ]
  },
  {
   "cell_type": "code",
   "execution_count": 4,
   "metadata": {},
   "outputs": [
    {
     "data": {
      "image/png": "[encoded data removed]",
      "text/plain": [
       "<Figure size 432x288 with 1 Axes>"
      ]
     },
     "metadata": {},
     "output_type": "display_data"
    }
   ],
   "source": [
    "x = np.linspace(-1,1,1000)\n",
    "y = np.apply_along_axis(q1Function,0, x)\n",
    "y2 = np.zeros(len(x))\n",
    "\n",
    "plt.figure(1)\n",
    "plt.plot(x,y, label = \"F(x)\")\n",
    "plt.plot(x,y2, label = \"y=0\")\n",
    "plt.xlabel(\"X\")\n",
    "plt.ylabel(\"Y\")\n",
    "plt.legend()\n",
    "plt.title(\"Plot of Question 1\")\n",
    "plt.show()"
   ]
  },
  {
   "cell_type": "markdown",
   "metadata": {},
   "source": [
    "By plotting, we now that there are 8 single roots in between $[-1,1]$.\n",
    "We also now, by observation, that there are exactly one root in these intervals:\n",
    "$\\{[-1,-0.90],[-0.90,-0.60],[-0.60,-0.30],[-0.30,0.0],[0.0,0.30],[0.30,0.60],[0.60,0.90],[0.90,1.0]\\}$"
   ]
  },
  {
   "cell_type": "markdown",
   "metadata": {},
   "source": [
    "We want to use a hybrid method of Bisection and Newton. To do that, we first have to write a function that hybridizes them:"
   ]
  },
  {
   "cell_type": "code",
   "execution_count": 5,
   "metadata": {
    "collapsed": true
   },
   "outputs": [],
   "source": [
    "\"\"\"\n",
    "hybrid hybridizes the bisection and 1D Newtion method\n",
    "[a,b] signify the starting interval.\n",
    "givenFunction is the function of the sepcific problem we want\n",
    "givenDerivative is the function of the sepcific problem we want\n",
    "bis_delta is a threshold value to function(x) for saying bisection is good enough\n",
    "newton_delta is a threshold value to function(x) for saying bisection is good enough\n",
    "newton_a is the max learning rate for the 1D newton\n",
    "\"\"\"\n",
    "def hybrid(a,b, bis_delta, newton_delta, newton_a, givenFunction, givenDerivative):\n",
    "    x0 = bisection(a,b,givenFunction, bis_delta)\n",
    "    root = one_Newton(x0,givenFunction, givenDerivative, newton_delta, newton_a)\n",
    "    return root\n"
   ]
  },
  {
   "cell_type": "markdown",
   "metadata": {},
   "source": [
    "Now, calculating approximates roots with threshold deltas:"
   ]
  },
  {
   "cell_type": "code",
   "execution_count": 6,
   "metadata": {},
   "outputs": [
    {
     "data": {
      "text/html": [
       "<div>\n",
       "<style scoped>\n",
       "    .dataframe tbody tr th:only-of-type {\n",
       "        vertical-align: middle;\n",
       "    }\n",
       "\n",
       "    .dataframe tbody tr th {\n",
       "        vertical-align: top;\n",
       "    }\n",
       "\n",
       "    .dataframe thead th {\n",
       "        text-align: right;\n",
       "    }\n",
       "</style>\n",
       "<table border=\"1\" class=\"dataframe\">\n",
       "  <thead>\n",
       "    <tr style=\"text-align: right;\">\n",
       "      <th></th>\n",
       "      <th>Interval Start</th>\n",
       "      <th>Interval End</th>\n",
       "      <th>Approximate Root</th>\n",
       "      <th>Value of Approx</th>\n",
       "    </tr>\n",
       "  </thead>\n",
       "  <tbody>\n",
       "    <tr>\n",
       "      <th>0</th>\n",
       "      <td>-1.0</td>\n",
       "      <td>-0.9</td>\n",
       "      <td>-0.963787</td>\n",
       "      <td>6.548784e-08</td>\n",
       "    </tr>\n",
       "    <tr>\n",
       "      <th>1</th>\n",
       "      <td>-0.9</td>\n",
       "      <td>-0.6</td>\n",
       "      <td>-0.794161</td>\n",
       "      <td>-7.321224e-08</td>\n",
       "    </tr>\n",
       "    <tr>\n",
       "      <th>2</th>\n",
       "      <td>-0.6</td>\n",
       "      <td>-0.3</td>\n",
       "      <td>-0.525686</td>\n",
       "      <td>2.095979e-08</td>\n",
       "    </tr>\n",
       "    <tr>\n",
       "      <th>3</th>\n",
       "      <td>-0.3</td>\n",
       "      <td>0.0</td>\n",
       "      <td>-0.183435</td>\n",
       "      <td>-5.958460e-10</td>\n",
       "    </tr>\n",
       "    <tr>\n",
       "      <th>4</th>\n",
       "      <td>0.0</td>\n",
       "      <td>0.3</td>\n",
       "      <td>0.183435</td>\n",
       "      <td>-5.958460e-10</td>\n",
       "    </tr>\n",
       "    <tr>\n",
       "      <th>5</th>\n",
       "      <td>0.3</td>\n",
       "      <td>0.6</td>\n",
       "      <td>0.525686</td>\n",
       "      <td>2.095979e-08</td>\n",
       "    </tr>\n",
       "    <tr>\n",
       "      <th>6</th>\n",
       "      <td>0.6</td>\n",
       "      <td>0.9</td>\n",
       "      <td>0.794161</td>\n",
       "      <td>-7.321224e-08</td>\n",
       "    </tr>\n",
       "    <tr>\n",
       "      <th>7</th>\n",
       "      <td>0.9</td>\n",
       "      <td>1.0</td>\n",
       "      <td>0.963787</td>\n",
       "      <td>6.548784e-08</td>\n",
       "    </tr>\n",
       "  </tbody>\n",
       "</table>\n",
       "</div>"
      ],
      "text/plain": [
       "   Interval Start  Interval End  Approximate Root  Value of Approx\n",
       "0            -1.0          -0.9         -0.963787     6.548784e-08\n",
       "1            -0.9          -0.6         -0.794161    -7.321224e-08\n",
       "2            -0.6          -0.3         -0.525686     2.095979e-08\n",
       "3            -0.3           0.0         -0.183435    -5.958460e-10\n",
       "4             0.0           0.3          0.183435    -5.958460e-10\n",
       "5             0.3           0.6          0.525686     2.095979e-08\n",
       "6             0.6           0.9          0.794161    -7.321224e-08\n",
       "7             0.9           1.0          0.963787     6.548784e-08"
      ]
     },
     "execution_count": 6,
     "metadata": {},
     "output_type": "execute_result"
    }
   ],
   "source": [
    "cols = [\"Interval Start\", \"Interval End\", \"Approximate Root\", \"Value of Approx\"]\n",
    "data = []\n",
    "candidates = [[-1,-0.90],[-0.90,-0.60],[-0.60,-0.30],[-0.30,0.0],[0.0,0.30],[0.30,0.60],[0.60,0.90],[0.90,1.0]]\n",
    "bisectionDelta = 0.001\n",
    "newtonDelta = 0.000001\n",
    "newtonA = 0.00000001\n",
    "\n",
    "for c in candidates:\n",
    "    a = c[0]\n",
    "    b = c[1]\n",
    "    root = hybrid(a, b, bisectionDelta, newtonDelta, newtonA, q1Function, q1Derivative)\n",
    "    data.append([c[0],c[1],root, q1Function(root)])\n",
    "\n",
    "p = pd.DataFrame(data, columns=cols)\n",
    "p"
   ]
  },
  {
   "cell_type": "markdown",
   "metadata": {},
   "source": [
    "Plotting the approximate roots on the graph:"
   ]
  },
  {
   "cell_type": "code",
   "execution_count": 7,
   "metadata": {},
   "outputs": [
    {
     "data": {
      "image/png": "[encoded data removed]",
      "text/plain": [
       "<Figure size 432x288 with 1 Axes>"
      ]
     },
     "metadata": {},
     "output_type": "display_data"
    }
   ],
   "source": [
    "x = np.linspace(-1,1,1000)\n",
    "y = np.apply_along_axis(q1Function,0, x)\n",
    "y2 = np.zeros(len(x))\n",
    "\n",
    "plt.figure(2)\n",
    "plt.plot(x,y, label = \"F(x)\")\n",
    "plt.plot(x,y2, label = \"y=0\")\n",
    "plt.scatter(p[\"Approximate Root\"], p[\"Value of Approx\"], label=None)\n",
    "plt.xlabel(\"X\")\n",
    "plt.ylabel(\"Y\")\n",
    "plt.legend()\n",
    "plt.title(\"Plot of Question 1 with Approximate Roots\")\n",
    "plt.show()"
   ]
  },
  {
   "cell_type": "markdown",
   "metadata": {},
   "source": [
    "### Question  2"
   ]
  },
  {
   "cell_type": "markdown",
   "metadata": {},
   "source": [
    "#### Function for n-D Newton's Method:"
   ]
  },
  {
   "cell_type": "code",
   "execution_count": 8,
   "metadata": {
    "collapsed": true
   },
   "outputs": [],
   "source": [
    "\"\"\"\n",
    "Code for a n-D Newton's method\n",
    "X signifies the starting point. This is a 1xn array\n",
    "givenFunctions is an array of functions of the sepcific problem we want. Should be a 1xn array.\n",
    "givenDerivatives is a Jacobian matrix of partial derivatives of the sepcific problem we want. Should an nxn matrix\n",
    "delta is a threshold error for saying approximation is good enough. All functions must fall within threshold.\n",
    "\"\"\"\n",
    "def n_Newton(X, givenFunctions, givenDerivatives, delta):\n",
    "    b = np.array([g(X) for g in givenFunctions]) # Values of each function at X\n",
    "    J = np.array([np.array([g(X) for g in G]) for G in givenDerivatives]) # Jacobian Matrix evaluated at X\n",
    "    \n",
    "    if all([abs(x) < delta for x in b]):\n",
    "        return X\n",
    "    else:\n",
    "        dr = np.linalg.solve(J, -b) #Python's answer to MATLAB's linsolve\n",
    "        xNew = X + dr\n",
    "        return n_Newton(xNew, givenFunctions, givenDerivatives, delta)"
   ]
  },
  {
   "cell_type": "markdown",
   "metadata": {},
   "source": [
    "For this question, we have to deal with a 2-variable system, so we have two functions:"
   ]
  },
  {
   "cell_type": "code",
   "execution_count": 9,
   "metadata": {
    "collapsed": true
   },
   "outputs": [],
   "source": [
    "def q2Function1(X): # Function for Function 1\n",
    "    x1 = X[0]\n",
    "    x2 = X[1]\n",
    "    return(x1**2 - 2*x1 - x2 + 0.5)\n",
    "    \n",
    "def q2Derivative11(X): #Partial Derivative of Function 1 on x1\n",
    "    x1 = X[0]\n",
    "    x2 = X[1]\n",
    "    return(2*x1 - 2)\n",
    "\n",
    "def q2Derivative12(X): #Partial Derivative of Function 1 on x2\n",
    "    x1 = X[0]\n",
    "    x2 = X[1]\n",
    "    return(-1)\n",
    "\n",
    "def q2Function2(X): # Function for Function 2\n",
    "    x1 = X[0]\n",
    "    x2 = X[1]\n",
    "    return(x1**2 + 4*x2**2 - 4)\n",
    "    \n",
    "def q2Derivative21(X): #Partial Derivative of Function 2 on x1\n",
    "    x1 = X[0]\n",
    "    x2 = X[1]\n",
    "    return(2*x1)\n",
    "\n",
    "def q2Derivative22(X): #Partial Derivative of Function 2 on x2\n",
    "    x1 = X[0]\n",
    "    x2 = X[1]\n",
    "    return(8*x2)"
   ]
  },
  {
   "cell_type": "markdown",
   "metadata": {},
   "source": [
    "After declaring our functions and partial derivatives, it is now time to build the functional vector as well as the Jacobian Matrix:"
   ]
  },
  {
   "cell_type": "code",
   "execution_count": 10,
   "metadata": {
    "collapsed": true
   },
   "outputs": [],
   "source": [
    "F = [q2Function1, q2Function2] #Functional vector\n",
    "J = [[q2Derivative11, q2Derivative12],[q2Derivative21, q2Derivative22]] #Jacobian Matrix"
   ]
  },
  {
   "cell_type": "code",
   "execution_count": 11,
   "metadata": {},
   "outputs": [
    {
     "data": {
      "image/png": "[encoded data removed]",
      "text/plain": [
       "<Figure size 432x288 with 1 Axes>"
      ]
     },
     "metadata": {},
     "output_type": "display_data"
    }
   ],
   "source": [
    "x = np.linspace(-1,2,2000)\n",
    "y1 = np.apply_along_axis(lambda x: x**2 - 2*x + 0.5, 0, x)\n",
    "y21 = np.apply_along_axis(lambda x: -((-x**2 + 4)/4)**0.5, 0, x)\n",
    "y22 = np.apply_along_axis(lambda x: ((-x**2 + 4)/4)**0.5, 0, x)\n",
    "\n",
    "plt.figure(3)\n",
    "plt.plot(x,y1, color = 'b', label=\"F1\")\n",
    "plt.plot(x,y21, color = 'r', label=\"F2\") #Split F2 into 2 to plot the ellipse\n",
    "plt.plot(x,y22, color = 'r') #Split F2 into 2 to plot the ellipse\n",
    "plt.title(\"Plot of Question 2 at F(X) = 0\")\n",
    "plt.legend()\n",
    "plt.xlabel(\"X\")\n",
    "plt.ylabel(\"Y\")\n",
    "plt.show()"
   ]
  },
  {
   "cell_type": "markdown",
   "metadata": {},
   "source": [
    "By plotting, we now that there are 2 simultaneous roots around (-0.2,0.9) and (1.9, 0.3)."
   ]
  },
  {
   "cell_type": "markdown",
   "metadata": {},
   "source": [
    "Now, calculating approximates roots with threshold deltas:"
   ]
  },
  {
   "cell_type": "code",
   "execution_count": 12,
   "metadata": {},
   "outputs": [
    {
     "data": {
      "text/html": [
       "<div>\n",
       "<style scoped>\n",
       "    .dataframe tbody tr th:only-of-type {\n",
       "        vertical-align: middle;\n",
       "    }\n",
       "\n",
       "    .dataframe tbody tr th {\n",
       "        vertical-align: top;\n",
       "    }\n",
       "\n",
       "    .dataframe thead th {\n",
       "        text-align: right;\n",
       "    }\n",
       "</style>\n",
       "<table border=\"1\" class=\"dataframe\">\n",
       "  <thead>\n",
       "    <tr style=\"text-align: right;\">\n",
       "      <th></th>\n",
       "      <th>Starting Guess</th>\n",
       "      <th>Approximate Roots (x)</th>\n",
       "      <th>Approximate Roots (y)</th>\n",
       "      <th>Value of Approx for F1</th>\n",
       "      <th>Value of Approx for F2</th>\n",
       "    </tr>\n",
       "  </thead>\n",
       "  <tbody>\n",
       "    <tr>\n",
       "      <th>0</th>\n",
       "      <td>[-0.2, 0.9]</td>\n",
       "      <td>-0.222215</td>\n",
       "      <td>0.993808</td>\n",
       "      <td>4.738815e-11</td>\n",
       "      <td>6.167031e-10</td>\n",
       "    </tr>\n",
       "    <tr>\n",
       "      <th>1</th>\n",
       "      <td>[1.9, 0.3]</td>\n",
       "      <td>1.900677</td>\n",
       "      <td>0.311219</td>\n",
       "      <td>3.866634e-09</td>\n",
       "      <td>5.357242e-08</td>\n",
       "    </tr>\n",
       "  </tbody>\n",
       "</table>\n",
       "</div>"
      ],
      "text/plain": [
       "  Starting Guess  Approximate Roots (x)  Approximate Roots (y)  \\\n",
       "0    [-0.2, 0.9]              -0.222215               0.993808   \n",
       "1     [1.9, 0.3]               1.900677               0.311219   \n",
       "\n",
       "   Value of Approx for F1  Value of Approx for F2  \n",
       "0            4.738815e-11            6.167031e-10  \n",
       "1            3.866634e-09            5.357242e-08  "
      ]
     },
     "execution_count": 12,
     "metadata": {},
     "output_type": "execute_result"
    }
   ],
   "source": [
    "cols = [\"Starting Guess\", \"Approximate Roots (x)\", \"Approximate Roots (y)\", \"Value of Approx for F1\", \"Value of Approx for F2\"]\n",
    "data = []\n",
    "candidates = [[-0.2, 0.9],[1.9, 0.3]]\n",
    "delta = 0.000001\n",
    "\n",
    "for c in candidates:\n",
    "    root = n_Newton(c, F, J, delta)\n",
    "    data.append([c,root[0], root[1], q2Function1(root), q2Function2(root)])\n",
    "\n",
    "q = pd.DataFrame(data, columns=cols)\n",
    "q"
   ]
  },
  {
   "cell_type": "markdown",
   "metadata": {},
   "source": [
    "Plotting the approximate roots on the graph:"
   ]
  },
  {
   "cell_type": "code",
   "execution_count": 13,
   "metadata": {},
   "outputs": [
    {
     "data": {
      "image/png": "[encoded data removed]",
      "text/plain": [
       "<Figure size 432x288 with 1 Axes>"
      ]
     },
     "metadata": {},
     "output_type": "display_data"
    }
   ],
   "source": [
    "x = np.linspace(-1,2,2000)\n",
    "y1 = np.apply_along_axis(lambda x: x**2 - 2*x + 0.5, 0, x)\n",
    "y21 = np.apply_along_axis(lambda x: -((-x**2 + 4)/4)**0.5, 0, x)\n",
    "y22 = np.apply_along_axis(lambda x: ((-x**2 + 4)/4)**0.5, 0, x)\n",
    "\n",
    "plt.figure(4)\n",
    "plt.plot(x,y1, color = 'b', label=\"F1\")\n",
    "plt.plot(x,y21, color = 'r', label=\"F2\") #Split F2 into 2 to plot the ellipse\n",
    "plt.plot(x,y22, color = 'r') #Split F2 into 2 to plot the ellipse\n",
    "plt.scatter(q[\"Approximate Roots (x)\"], q[\"Approximate Roots (y)\"], label = None)\n",
    "plt.xlabel(\"X\")\n",
    "plt.ylabel(\"Y\")\n",
    "plt.title(\"Plot of Question 2 with Approximate Roots\")\n",
    "plt.legend()\n",
    "plt.show()"
   ]
  },
  {
   "cell_type": "markdown",
   "metadata": {},
   "source": [
    "### Summary"
   ]
  },
  {
   "cell_type": "markdown",
   "metadata": {},
   "source": [
    "#### Question 1 Answers"
   ]
  },
  {
   "cell_type": "code",
   "execution_count": 14,
   "metadata": {},
   "outputs": [
    {
     "data": {
      "text/html": [
       "<div>\n",
       "<style scoped>\n",
       "    .dataframe tbody tr th:only-of-type {\n",
       "        vertical-align: middle;\n",
       "    }\n",
       "\n",
       "    .dataframe tbody tr th {\n",
       "        vertical-align: top;\n",
       "    }\n",
       "\n",
       "    .dataframe thead th {\n",
       "        text-align: right;\n",
       "    }\n",
       "</style>\n",
       "<table border=\"1\" class=\"dataframe\">\n",
       "  <thead>\n",
       "    <tr style=\"text-align: right;\">\n",
       "      <th></th>\n",
       "      <th>Approximate Root</th>\n",
       "    </tr>\n",
       "  </thead>\n",
       "  <tbody>\n",
       "    <tr>\n",
       "      <th>0</th>\n",
       "      <td>-0.963787</td>\n",
       "    </tr>\n",
       "    <tr>\n",
       "      <th>1</th>\n",
       "      <td>-0.794161</td>\n",
       "    </tr>\n",
       "    <tr>\n",
       "      <th>2</th>\n",
       "      <td>-0.525686</td>\n",
       "    </tr>\n",
       "    <tr>\n",
       "      <th>3</th>\n",
       "      <td>-0.183435</td>\n",
       "    </tr>\n",
       "    <tr>\n",
       "      <th>4</th>\n",
       "      <td>0.183435</td>\n",
       "    </tr>\n",
       "    <tr>\n",
       "      <th>5</th>\n",
       "      <td>0.525686</td>\n",
       "    </tr>\n",
       "    <tr>\n",
       "      <th>6</th>\n",
       "      <td>0.794161</td>\n",
       "    </tr>\n",
       "    <tr>\n",
       "      <th>7</th>\n",
       "      <td>0.963787</td>\n",
       "    </tr>\n",
       "  </tbody>\n",
       "</table>\n",
       "</div>"
      ],
      "text/plain": [
       "   Approximate Root\n",
       "0         -0.963787\n",
       "1         -0.794161\n",
       "2         -0.525686\n",
       "3         -0.183435\n",
       "4          0.183435\n",
       "5          0.525686\n",
       "6          0.794161\n",
       "7          0.963787"
      ]
     },
     "execution_count": 14,
     "metadata": {},
     "output_type": "execute_result"
    }
   ],
   "source": [
    "p[[\"Approximate Root\"]]"
   ]
  },
  {
   "cell_type": "markdown",
   "metadata": {},
   "source": [
    "#### Question 2 Answers"
   ]
  },
  {
   "cell_type": "code",
   "execution_count": 15,
   "metadata": {},
   "outputs": [
    {
     "data": {
      "text/html": [
       "<div>\n",
       "<style scoped>\n",
       "    .dataframe tbody tr th:only-of-type {\n",
       "        vertical-align: middle;\n",
       "    }\n",
       "\n",
       "    .dataframe tbody tr th {\n",
       "        vertical-align: top;\n",
       "    }\n",
       "\n",
       "    .dataframe thead th {\n",
       "        text-align: right;\n",
       "    }\n",
       "</style>\n",
       "<table border=\"1\" class=\"dataframe\">\n",
       "  <thead>\n",
       "    <tr style=\"text-align: right;\">\n",
       "      <th></th>\n",
       "      <th>Approximate Roots (x)</th>\n",
       "      <th>Approximate Roots (y)</th>\n",
       "    </tr>\n",
       "  </thead>\n",
       "  <tbody>\n",
       "    <tr>\n",
       "      <th>0</th>\n",
       "      <td>-0.222215</td>\n",
       "      <td>0.993808</td>\n",
       "    </tr>\n",
       "    <tr>\n",
       "      <th>1</th>\n",
       "      <td>1.900677</td>\n",
       "      <td>0.311219</td>\n",
       "    </tr>\n",
       "  </tbody>\n",
       "</table>\n",
       "</div>"
      ],
      "text/plain": [
       "   Approximate Roots (x)  Approximate Roots (y)\n",
       "0              -0.222215               0.993808\n",
       "1               1.900677               0.311219"
      ]
     },
     "execution_count": 15,
     "metadata": {},
     "output_type": "execute_result"
    }
   ],
   "source": [
    "q[[\"Approximate Roots (x)\", \"Approximate Roots (y)\"]]"
   ]
  }
 ],
 "metadata": {
  "kernelspec": {
   "display_name": "Python 3",
   "language": "python",
   "name": "python3"
  },
  "language_info": {
   "codemirror_mode": {
    "name": "ipython",
    "version": 3
   },
   "file_extension": ".py",
   "mimetype": "text/x-python",
   "name": "python",
   "nbconvert_exporter": "python",
   "pygments_lexer": "ipython3",
   "version": "3.6.1"
  }
 },
 "nbformat": 4,
 "nbformat_minor": 2
}
