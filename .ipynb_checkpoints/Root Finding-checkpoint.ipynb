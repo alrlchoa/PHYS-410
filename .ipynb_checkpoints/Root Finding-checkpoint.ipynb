{
 "cells": [
  {
   "cell_type": "code",
   "execution_count": 90,
   "metadata": {
    "collapsed": true
   },
   "outputs": [],
   "source": [
    "import numpy as np\n",
    "import matplotlib.pyplot as plt"
   ]
  },
  {
   "cell_type": "code",
   "execution_count": 103,
   "metadata": {
    "collapsed": true
   },
   "outputs": [],
   "source": [
    "def test_function(x):\n",
    "    # Test function for root finding\n",
    "    # Cosine and Sine are in radians\n",
    "    return np.cos(x) - x"
   ]
  },
  {
   "cell_type": "markdown",
   "metadata": {},
   "source": [
    "## Bisection Method"
   ]
  },
  {
   "cell_type": "code",
   "execution_count": 100,
   "metadata": {
    "collapsed": true
   },
   "outputs": [],
   "source": [
    "delta = 0.00000000001\n",
    "a = 0 #starting left interval\n",
    "b = 3 #starting right interval\n",
    "\n",
    "def bisection(a,b, delta):\n",
    "    if a>b:\n",
    "        # Checking if a <= b\n",
    "        return bisection(b,a)\n",
    "    mid = (a+b)/2\n",
    "    if abs(test_function(mid)) < delta: # Test delta against value of root\n",
    "        print(\"Root within \"+str(delta)+\" is \"+str(mid))\n",
    "        print(\"Value of this root is actually:\"+str(test_function(mid)))\n",
    "        return mid\n",
    "    else:\n",
    "        if test_function(a)*test_function(mid) < 0:\n",
    "            return bisection(a, mid, delta)\n",
    "        else:\n",
    "            return bisection(mid, b, delta)"
   ]
  },
  {
   "cell_type": "code",
   "execution_count": 101,
   "metadata": {},
   "outputs": [
    {
     "name": "stdout",
     "output_type": "stream",
     "text": [
      "Root within 1e-11 is 0.7390851332093007\n",
      "Value of this root is actually:9.807266110328783e-12\n"
     ]
    }
   ],
   "source": [
    "root = bisection(a,b,delta)"
   ]
  },
  {
   "cell_type": "code",
   "execution_count": 102,
   "metadata": {},
   "outputs": [
    {
     "data": {
      "image/png": "[encoded data removed]",
      "text/plain": [
       "<Figure size 432x288 with 1 Axes>"
      ]
     },
     "metadata": {},
     "output_type": "display_data"
    }
   ],
   "source": [
    "#Visualizing Bisection\n",
    "x = np.linspace(0,3,1000)\n",
    "plt.plot(x,list(map(test_function,x)))\n",
    "plt.scatter([root],[test_function(root)])\n",
    "plt.show()"
   ]
  },
  {
   "cell_type": "markdown",
   "metadata": {},
   "source": [
    "## Newton's Method"
   ]
  },
  {
   "cell_type": "code",
   "execution_count": null,
   "metadata": {
    "collapsed": true
   },
   "outputs": [],
   "source": [
    "def slope(x, tol = 1e-11):\n",
    "    retest_function(x) - test_function(x+tol)"
   ]
  }
 ],
 "metadata": {
  "kernelspec": {
   "display_name": "Python 3",
   "language": "python",
   "name": "python3"
  },
  "language_info": {
   "codemirror_mode": {
    "name": "ipython",
    "version": 3
   },
   "file_extension": ".py",
   "mimetype": "text/x-python",
   "name": "python",
   "nbconvert_exporter": "python",
   "pygments_lexer": "ipython3",
   "version": "3.6.1"
  }
 },
 "nbformat": 4,
 "nbformat_minor": 2
}
